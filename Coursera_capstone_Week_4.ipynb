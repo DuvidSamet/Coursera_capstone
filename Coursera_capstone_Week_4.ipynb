{
 "cells": [
  {
   "cell_type": "markdown",
   "metadata": {},
   "source": [
    "### Introduction"
   ]
  },
  {
   "cell_type": "markdown",
   "metadata": {},
   "source": [
    "As an owner of a large Car Wash company in the New York State area, trying to open new locations, \n",
    "We are curious to see where to focus on, to open new locations.  \n",
    "It is important for us not to open new locations where there is already a lot of Car Washes, So we are looking to open in locations with the minimum amount of Car Washes, So we can be exclusive in that area.\n"
   ]
  },
  {
   "cell_type": "markdown",
   "metadata": {},
   "source": [
    "### Data"
   ]
  },
  {
   "cell_type": "markdown",
   "metadata": {},
   "source": [
    "To do our analysis, we will first need to get a list of all counties in New York from the US Census Bureau with there Latitude and Longitude,  \n",
    "And then we will use the Foursquare API to get all the locations where there is already a Car Wash "
   ]
  },
  {
   "cell_type": "code",
   "execution_count": null,
   "metadata": {},
   "outputs": [],
   "source": []
  }
 ],
 "metadata": {
  "kernelspec": {
   "display_name": "Python 3",
   "language": "python",
   "name": "python3"
  },
  "language_info": {
   "codemirror_mode": {
    "name": "ipython",
    "version": 3
   },
   "file_extension": ".py",
   "mimetype": "text/x-python",
   "name": "python",
   "nbconvert_exporter": "python",
   "pygments_lexer": "ipython3",
   "version": "3.7.3"
  }
 },
 "nbformat": 4,
 "nbformat_minor": 2
}
